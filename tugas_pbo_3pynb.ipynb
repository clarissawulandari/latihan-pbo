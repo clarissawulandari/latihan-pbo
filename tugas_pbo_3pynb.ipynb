{
  "nbformat": 4,
  "nbformat_minor": 0,
  "metadata": {
    "colab": {
      "provenance": [],
      "authorship_tag": "ABX9TyNEdvBeHOY1mKVMK1tt8KFn",
      "include_colab_link": true
    },
    "kernelspec": {
      "name": "python3",
      "display_name": "Python 3"
    },
    "language_info": {
      "name": "python"
    }
  },
  "cells": [
    {
      "cell_type": "markdown",
      "metadata": {
        "id": "view-in-github",
        "colab_type": "text"
      },
      "source": [
        "<a href=\"https://colab.research.google.com/github/clarissawulandari/latihan-pbo/blob/main/tugas_pbo_3pynb.ipynb\" target=\"_parent\"><img src=\"https://colab.research.google.com/assets/colab-badge.svg\" alt=\"Open In Colab\"/></a>"
      ]
    },
    {
      "cell_type": "code",
      "execution_count": null,
      "metadata": {
        "id": "51_MDOqFib5W"
      },
      "outputs": [],
      "source": [
        "# Desain class\n",
        "class RekeningBank:\n",
        "  def __init__(self, nama_pemilik, saldo):\n",
        "    self.__saldo = saldo\n",
        "    self.__nama_pemilik = nama_pemilik\n",
        "\n",
        "  def set_saldo(self, saldo):\n",
        "    self.__saldo = saldo\n",
        "\n",
        "  def get_saldo(self):\n",
        "    return self.__saldo\n",
        "\n",
        "  def set_nama_pemilik(self, nama_pemilik):\n",
        "    self.__nama_pemilik = nama_pemilik\n",
        "\n",
        "  def get_nama_pemilik(self):\n",
        "    return self.__nama_pemilik\n",
        "\n",
        "  def setor(self, jumlah):\n",
        "    if jumlah > 0:\n",
        "      self.__saldo += jumlah\n",
        "      print(\"Setoran Berhasil. Saldo sekarang:\", self.__saldo)\n",
        "\n",
        "    else:\n",
        "      print(\"Jumlah Setoran Harus Lebih Dari 0\")\n",
        "\n",
        "  def tarik(self, jumlah):\n",
        "    if jumlah > 0 and jumlah <= self.__saldo:\n",
        "      self.__saldo -= jumlah\n",
        "      print(\"Penarikan Berhasil. Saldo Sekarang:\", self.__saldo)\n",
        "\n",
        "    else:\n",
        "      print(\"Jumlah Penarikan Tidak Valid Atau Saldo Tidak Mencukupi\")\n"
      ]
    },
    {
      "cell_type": "code",
      "source": [
        "#Program utama untuk mendemonstrasikan class RekeningBank\n",
        "#yang menunjukkan penggunaan semua fungsi yang ada\n",
        "rekening1 = RekeningBank(\"selly\", 2000000)\n",
        "\n",
        "print(\"Nama Pemilik: \", rekening1.get_nama_pemilik())\n",
        "print(\"Saldo: \", rekening1.get_saldo())\n",
        "\n",
        "rekening1.set_nama_pemilik(\"clarisa\")\n",
        "rekening1.set_saldo(2500000)\n",
        "\n",
        "print(\"\\nNama Pemilik setelah diubah: \", rekening1.get_nama_pemilik())\n",
        "print(\"Saldo setelah diubah: \", rekening1.get_saldo())\n"
      ],
      "metadata": {
        "colab": {
          "base_uri": "https://localhost:8080/"
        },
        "id": "vudJ3l27iyoN",
        "outputId": "29cb8db0-09f6-45e2-89da-a959f410cff6"
      },
      "execution_count": null,
      "outputs": [
        {
          "output_type": "stream",
          "name": "stdout",
          "text": [
            "Nama Pemilik:  selly\n",
            "Saldo:  2000000\n",
            "\n",
            "Nama Pemilik setelah diubah:  clarisa\n",
            "Saldo setelah diubah:  2500000\n"
          ]
        }
      ]
    },
    {
      "cell_type": "code",
      "source": [
        "#Demo Programnya\n",
        "rekening2 = RekeningBank(\"clarisa\", 20000000)\n",
        "\n",
        "#Menampilkan Informasi Awal Rekening\n",
        "print(\"Informasi Awal Rekening:\")\n",
        "print(\"Nama Pemilik:\", rekening2.get_nama_pemilik())\n",
        "print(\"Saldo:\", rekening2.get_saldo())\n",
        "\n",
        "#Melakukan Setor Dan Penarikan\n",
        "rekening2.setor(6000000)\n",
        "rekening2.tarik(2000000)\n",
        "rekening2.tarik(20000000)  # Penarikan lebih dari saldo\n",
        "\n",
        "#Menampilkan Informasi Akhir Rekening\n",
        "print(\"\\nInformasi Akhir Rekening:\")\n",
        "print(\"Nama Pemilik:\", rekening2.get_nama_pemilik())\n",
        "print(\"Saldo:\", rekening2.get_saldo())\n"
      ],
      "metadata": {
        "colab": {
          "base_uri": "https://localhost:8080/"
        },
        "id": "XKupNoFpi8qz",
        "outputId": "9f4a5e18-f162-4fd8-fa94-4745bafdda0a"
      },
      "execution_count": null,
      "outputs": [
        {
          "output_type": "stream",
          "name": "stdout",
          "text": [
            "Informasi Awal Rekening:\n",
            "Nama Pemilik: clarisa\n",
            "Saldo: 20000000\n",
            "Setoran Berhasil. Saldo sekarang: 26000000\n",
            "Penarikan Berhasil. Saldo Sekarang: 24000000\n",
            "Penarikan Berhasil. Saldo Sekarang: 4000000\n",
            "\n",
            "Informasi Akhir Rekening:\n",
            "Nama Pemilik: clarisa\n",
            "Saldo: 4000000\n"
          ]
        }
      ]
    }
  ]
}