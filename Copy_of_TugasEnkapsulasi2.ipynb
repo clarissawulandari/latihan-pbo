{
  "nbformat": 4,
  "nbformat_minor": 0,
  "metadata": {
    "colab": {
      "provenance": [],
      "include_colab_link": true
    },
    "kernelspec": {
      "name": "python3",
      "display_name": "Python 3"
    },
    "language_info": {
      "name": "python"
    }
  },
  "cells": [
    {
      "cell_type": "markdown",
      "metadata": {
        "id": "view-in-github",
        "colab_type": "text"
      },
      "source": [
        "<a href=\"https://colab.research.google.com/github/clarissawulandari/latihan-pbo/blob/main/Copy_of_TugasEnkapsulasi2.ipynb\" target=\"_parent\"><img src=\"https://colab.research.google.com/assets/colab-badge.svg\" alt=\"Open In Colab\"/></a>"
      ]
    },
    {
      "cell_type": "markdown",
      "source": [
        "Buatlah kelas RekeningBank dengan atribut berikut:\n",
        "\n",
        "*   nama_pemilik (private)\n",
        "*   saldo (private)\n",
        "\n",
        "Berikan metode berikut:\n",
        "\n",
        "*   __init__: Menginisialisasi saldo dan nama_pemilik.\n",
        "*   set_saldo: Mengubah nilai saldo.\n",
        "*   get_saldo: Mengembalikan nilai saldo.\n",
        "*   set_nama_pemilik: Mengubah nama pemilik.\n",
        "*   get_nama_pemilik: Mengembalikan nama pemilik.\n",
        "\n",
        "\n",
        "\n",
        "\n",
        "\n",
        "\n",
        "\n",
        "\n"
      ],
      "metadata": {
        "id": "PktiI90eS6Ee"
      }
    },
    {
      "cell_type": "code",
      "source": [
        "class RekeningBank:\n",
        "  def __init__(self, nama, saldo):\n",
        "    self.__nama = nama\n",
        "    self.__saldo = saldo\n",
        "\n",
        "  def get_saldo(self):\n",
        "    return self.__saldo\n",
        "\n",
        "  def set_saldo(self, saldo):\n",
        "    self.__saldo = saldo\n",
        "\n",
        "  def get_nama(self):\n",
        "    return self.__nama\n",
        "\n",
        "  def set_nama(self, nama):\n",
        "    self.__nama = nama\n"
      ],
      "metadata": {
        "id": "Pyj-mkyciVfk"
      },
      "execution_count": 34,
      "outputs": []
    },
    {
      "cell_type": "code",
      "source": [
        "#Program utama untuk mendemonstrasikan class RekeningBank\n",
        "#yang menunjukkan penggunaan semua fungsi yang ada\n",
        "pemilik = RekeningBank('clarisa', 10000000)\n",
        "print(f'Nama pemilik : {pemilik.get_nama()}')\n",
        "print(f'Isi saldo : {pemilik.get_saldo()}')\n",
        "\n",
        "pemilik.set_nama('Andi')\n",
        "print(f'Nama pemilik : {pemilik.get_nama()}')\n",
        "pemilik.set_saldo(7000000)\n",
        "print(f'Isi saldo : {pemilik.get_saldo()}')\n"
      ],
      "metadata": {
        "id": "aOwy6rfdSga2",
        "colab": {
          "base_uri": "https://localhost:8080/"
        },
        "outputId": "f1ca0a0a-b91c-4886-df9a-eccd53729925"
      },
      "execution_count": 35,
      "outputs": [
        {
          "output_type": "stream",
          "name": "stdout",
          "text": [
            "Nama pemilik : clarisa\n",
            "Isi saldo : 10000000\n",
            "Nama pemilik : Andi\n",
            "Isi saldo : 7000000\n"
          ]
        }
      ]
    }
  ]
}