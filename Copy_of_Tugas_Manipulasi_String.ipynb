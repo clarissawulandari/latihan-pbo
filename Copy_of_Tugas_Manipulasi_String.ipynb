{
  "nbformat": 4,
  "nbformat_minor": 0,
  "metadata": {
    "colab": {
      "provenance": [],
      "include_colab_link": true
    },
    "kernelspec": {
      "name": "python3",
      "display_name": "Python 3"
    },
    "language_info": {
      "name": "python"
    }
  },
  "cells": [
    {
      "cell_type": "markdown",
      "metadata": {
        "id": "view-in-github",
        "colab_type": "text"
      },
      "source": [
        "<a href=\"https://colab.research.google.com/github/clarissawulandari/latihan-pbo/blob/main/Copy_of_Tugas_Manipulasi_String.ipynb\" target=\"_parent\"><img src=\"https://colab.research.google.com/assets/colab-badge.svg\" alt=\"Open In Colab\"/></a>"
      ]
    },
    {
      "cell_type": "markdown",
      "source": [
        "buatlah class Catatan dengan atribut\n",
        "1. nama (string)\n",
        "2. nomor_absen (intejer)\n",
        "3. catatan (string)\n",
        "\n",
        "buat fungsi untuk\n",
        "1. menggabungkan semua atribut diatas menjadi sebuah kalimat menggunakan pertambahan string\n",
        "2. menampilkan kalimat gabungan semua atribut\n",
        "3. mencari kata dalam sebuah kalimat menggunakan fungsi in\n",
        "4. menggandakan jumlah kalimat menggunakan tanda perkalian *\n",
        "5. menghitung jumlah huruf dalam kalimat menggunakan len\n",
        "6. mencari kata pertama dalam kalimat menggunakan startswith"
      ],
      "metadata": {
        "id": "AIkziXKoHrlK"
      }
    },
    {
      "cell_type": "code",
      "source": [
        "#desain class\n",
        "class catatan:\n",
        "  def __init__(self,nama, nomor_absen, catatan):\n",
        "    self.nama = nama\n",
        "    self.nomor_absen = nomor_absen\n",
        "    self.catatan = catatan\n",
        "\n",
        "  def gabung(self):\n",
        "    nama_lengkap = str(self.nama) + ''+ str(self.nomor_absen) +''+str(self.catatan)\n",
        "    return nama_lengkap\n",
        "\n",
        "  def cari(self):\n",
        "    print('nama'in self.gabung())\n",
        "\n",
        "  def perkalian(self):\n",
        "    print(self.gabung() * 2 )\n",
        "\n",
        "  def jumlah(self):\n",
        "    print(len(self.gabung()))\n",
        "\n",
        "  def karakterawal(self):\n",
        "    print(str(self.gabung()).startswith('clarisa'))\n"
      ],
      "metadata": {
        "id": "_YQuLGp_IA93"
      },
      "execution_count": 13,
      "outputs": []
    },
    {
      "cell_type": "code",
      "source": [
        "#main program\n",
        "catatan = catatan('clarisa','02','clarisa adalah murid smk negri 9 malang')\n",
        "\n",
        "catatan.gabung()\n",
        "catatan.cari()\n",
        "catatan.perkalian()\n",
        "catatan.jumlah()\n",
        "catatan.karakterawal()\n"
      ],
      "metadata": {
        "id": "QdIPVcTJID9Q",
        "colab": {
          "base_uri": "https://localhost:8080/"
        },
        "outputId": "32c82b4e-d6c3-49b3-b11f-052fb69fe1b1"
      },
      "execution_count": 14,
      "outputs": [
        {
          "output_type": "stream",
          "name": "stdout",
          "text": [
            "False\n",
            "clarisa02clarisa adalah murid smk negri 9 malangclarisa02clarisa adalah murid smk negri 9 malang\n",
            "48\n",
            "True\n"
          ]
        }
      ]
    }
  ]
}