{
  "nbformat": 4,
  "nbformat_minor": 0,
  "metadata": {
    "colab": {
      "provenance": [],
      "include_colab_link": true
    },
    "kernelspec": {
      "name": "python3",
      "display_name": "Python 3"
    },
    "language_info": {
      "name": "python"
    }
  },
  "cells": [
    {
      "cell_type": "markdown",
      "metadata": {
        "id": "view-in-github",
        "colab_type": "text"
      },
      "source": [
        "<a href=\"https://colab.research.google.com/github/clarissawulandari/latihan-pbo/blob/main/Copy_of_TugasInheritanceSiswa1.ipynb\" target=\"_parent\"><img src=\"https://colab.research.google.com/assets/colab-badge.svg\" alt=\"Open In Colab\"/></a>"
      ]
    },
    {
      "cell_type": "markdown",
      "source": [
        "Buatlah class Karyawan yang memiliki atribut id, nama dan departemen dan sebuah fungsi bernama hitung_gaji. Untuk hitung gaji pada class Karyawan tidak berisi perhitungan gaji, namun hanya berisi pass"
      ],
      "metadata": {
        "id": "Um7eIwqGTwV8"
      }
    },
    {
      "cell_type": "code",
      "execution_count": 2,
      "metadata": {
        "id": "LMDiMb1-Dtzp"
      },
      "outputs": [],
      "source": [
        "class Karyawan:\n",
        "  def __init__ (self, id, nama, departemen):\n",
        "    self.id = id\n",
        "    self.nama = nama\n",
        "    self.departemen = departemen\n",
        "\n",
        "  def hitung_gaji(self):\n",
        "    pass"
      ]
    },
    {
      "cell_type": "markdown",
      "source": [
        "Buatlah class FullTime yang merupakan turunan dari class Karyawan dan memili atribut tambahan bernama gaji. Kemudian class Penuh ini juga memiliki fungsi hitung_gaji sendiri yang berfungsi mengembalikan nilai gajinya."
      ],
      "metadata": {
        "id": "CLMRhqWUUHoZ"
      }
    },
    {
      "cell_type": "code",
      "source": [
        "class Penuh(Karyawan):\n",
        "  def __init__(self, id, nama, departemen, gaji):\n",
        "    super().__init__(id, nama, departemen)\n",
        "    self.gaji = gaji\n",
        "\n",
        "  def hitung_gaji(self):\n",
        "    return self.gaji\n",
        ""
      ],
      "metadata": {
        "id": "MZwsxgPDEZNs"
      },
      "execution_count": 3,
      "outputs": []
    },
    {
      "cell_type": "markdown",
      "source": [
        "Buatlah class PartTime yang merupakan turunan dari class Karyawan dan memiliki 2 atribut tambahan bernama jam_kerja dan tarif_per_jam. Kemudian class ParuhWaktu ini juga memiliki fungsi hitung_gaji sendiri yang berfungsi mengembalikan nilai gajinya dengan rumus jam_kerja dikalikan tarif_per_jam."
      ],
      "metadata": {
        "id": "ywi3yeiqUjlh"
      }
    },
    {
      "cell_type": "code",
      "source": [
        "class ParuhWaktu(Karyawan):\n",
        "  def __init__(self, id, nama, departemen, jam_kerja, tarif_per_jam):\n",
        "    super().__init__(id, nama, departemen)\n",
        "    self.jam_kerja = jam_kerja\n",
        "    self.tarif_per_jam = tarif_per_jam\n",
        "\n",
        "  def hitung_gaji(self):\n",
        "    return self.jam_kerja * self.tarif_per_jam\n",
        ""
      ],
      "metadata": {
        "id": "HLBTYAVKEc7E"
      },
      "execution_count": 4,
      "outputs": []
    },
    {
      "cell_type": "markdown",
      "source": [
        "Kemudian jalankan kode program berikut ini, ubah kode karyawan, nama, departemen, gaji, jam_kerja dan tarif_per_jam sesuai keinginan anda sendiri"
      ],
      "metadata": {
        "id": "qjE3CE61VSzn"
      }
    },
    {
      "cell_type": "code",
      "source": [
        "# Membuat objek dari kelas anak\n",
        "clarissa = Penuh(\"FT001\", \"clarissa\", \"HR\", 10000000)\n",
        "duta = ParuhWaktu(\"PT001\", \"duta\", \"IT\", 20, 150000)\n",
        "\n",
        "# Menghitung gaji\n",
        "print(f\"Gaji {clarissa.nama}: Rp {clarissa.hitung_gaji()}\")  # Output: Gaji Budi: Rp 10000000\n",
        "print(f\"Gaji {duta.nama}: Rp {duta.hitung_gaji()}\")  # Output: Gaji Rudi: Rp 3000000\n",
        ""
      ],
      "metadata": {
        "id": "jwwX3nI8Efh8",
        "colab": {
          "base_uri": "https://localhost:8080/"
        },
        "outputId": "afea8c1b-daf1-4193-e689-cc53d76151ac"
      },
      "execution_count": 6,
      "outputs": [
        {
          "output_type": "stream",
          "name": "stdout",
          "text": [
            "Gaji clarissa: Rp 10000000\n",
            "Gaji duta: Rp 3000000\n"
          ]
        }
      ]
    }
  ]
}