{
  "cells": [
    {
      "cell_type": "markdown",
      "metadata": {
        "id": "view-in-github",
        "colab_type": "text"
      },
      "source": [
        "<a href=\"https://colab.research.google.com/github/clarissawulandari/latihan-pbo/blob/main/Salinan_dari_Salinan_dari_TugasClass.ipynb\" target=\"_parent\"><img src=\"https://colab.research.google.com/assets/colab-badge.svg\" alt=\"Open In Colab\"/></a>"
      ]
    },
    {
      "cell_type": "markdown",
      "metadata": {
        "id": "V6n6i25pQnla"
      },
      "source": [
        "Lengkapilah class-class berikut ini."
      ]
    },
    {
      "cell_type": "markdown",
      "metadata": {
        "id": "DoZvmdSTSDPa"
      },
      "source": [
        "Class Senjata memiliki 2 atribut atribut nama dan poin serta fungsi tembak(). Fungsi tembak mencetak teks \"Dorr\". Dan class senjata ini memiliki konstruktor."
      ]
    },
    {
      "cell_type": "code",
      "execution_count": null,
      "metadata": {
        "id": "NYeV0w-FR6mf"
      },
      "outputs": [],
      "source": [
        "class Senjata:\n",
        "  def __init__(self, nama, poin):\n",
        "   self.nama = nama\n",
        "   self.poin = poin\n",
        "  def tembak(self):\n",
        "    print(f\"dorr!\")"
      ]
    },
    {
      "cell_type": "markdown",
      "metadata": {
        "id": "LwRHn7m4SBaJ"
      },
      "source": [
        "Class Player memiliki atribut id, nama, skor dan nyawa serta sebuah atribut bertipe objek **Senjata**. Tipe atribut silakan anda tentukan sendiri. Class Player memiliki perilaku mulai, move, set_skor dan get_skor. Class player wajib memiliki kontruktor. Fungsi move() menampilkan teks \"Bergerak\". Fungsi set_skor berfungsi untuk menambah skor dan fungsi get_skor mengembalikan nilai skor."
      ]
    },
    {
      "cell_type": "code",
      "execution_count": null,
      "metadata": {
        "id": "JC6f_oE5Qhjt"
      },
      "outputs": [],
      "source": [
        "class Player:\n",
        "  def __init__(self, id, nama, skor, nyawa, senjata):\n",
        "   self.id = id\n",
        "   self.nama = 'clarissa'\n",
        "   self.skor = skor\n",
        "   self.nyawa = nyawa\n",
        "   self.senjata = senjata\n",
        "\n",
        "\n",
        "  def mulai(self):\n",
        "    print(f'Player {self.nama} dengan skor {self.skor}')\n",
        "    print(f'Memiliki senjata {self.senjata.nama} dengan poin {self.senjata.poin}')\n",
        "\n",
        "  def move(self):\n",
        "    print(\"bergerak\")\n",
        "\n",
        "  def set_skor(self, skor):\n",
        "    self.skor += tambah_skor\n",
        "\n",
        "  def get_skor(self):\n",
        "    return self.skor"
      ]
    },
    {
      "cell_type": "markdown",
      "metadata": {
        "id": "miQK-cUqKAJe"
      },
      "source": [
        "Terakhir cobalah kedua class tersebut dengan kode program berikut ini."
      ]
    },
    {
      "cell_type": "code",
      "execution_count": null,
      "metadata": {
        "colab": {
          "base_uri": "https://localhost:8080/"
        },
        "id": "b-sH4vg5KE1p",
        "outputId": "e5349f11-e338-4115-848c-7378ca0dd166"
      },
      "outputs": [
        {
          "output_type": "stream",
          "name": "stdout",
          "text": [
            "Player clarissa dengan skor 80\n",
            "Memiliki senjata pistol dengan poin 10\n",
            "bergerak\n",
            "dorr!\n"
          ]
        }
      ],
      "source": [
        "\n",
        "player1 = Player(\n",
        "    id = 1,\n",
        "    nama = 'clarissa',\n",
        "    skor = 80,\n",
        "    nyawa = 5,\n",
        "    senjata = Senjata(nama = \"pistol\", poin = 10))\n",
        "player1.mulai()\n",
        "player1.move()\n",
        "player1.senjata.tembak()"
      ]
    }
  ],
  "metadata": {
    "colab": {
      "provenance": [],
      "include_colab_link": true
    },
    "kernelspec": {
      "display_name": "Python 3",
      "name": "python3"
    },
    "language_info": {
      "name": "python"
    }
  },
  "nbformat": 4,
  "nbformat_minor": 0
}